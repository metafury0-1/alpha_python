{
 "cells": [
  {
   "cell_type": "code",
   "execution_count": 7,
   "id": "e1ca5cca",
   "metadata": {},
   "outputs": [],
   "source": [
    "#Decorator class\n",
    "\n",
    "class Myclass:\n",
    "    def __init__(self,a,b):\n",
    "        self.a=a\n",
    "        self.b=b\n",
    "        \n",
    "    def __call__(self,fn):\n",
    "        def inner(*args,**kwargs):\n",
    "            print(\"this is inner wrapper printing two values \",self.a,self.b)\n",
    "            return fn(*args,**kwargs)\n",
    "        return inner\n",
    "        "
   ]
  },
  {
   "cell_type": "code",
   "execution_count": 6,
   "id": "12b02dae",
   "metadata": {},
   "outputs": [],
   "source": [
    "# calling decorator class\n",
    "@Myclass(20,30)\n",
    "def func(s):\n",
    "    print(\"printing single value \",s)"
   ]
  },
  {
   "cell_type": "code",
   "execution_count": 8,
   "id": "0f860135",
   "metadata": {},
   "outputs": [
    {
     "name": "stdout",
     "output_type": "stream",
     "text": [
      "this is inner wrapper printing two values  20 30\n",
      "printing single value  worlds\n"
     ]
    }
   ],
   "source": [
    "func(\"worlds\")"
   ]
  },
  {
   "cell_type": "code",
   "execution_count": 9,
   "id": "8c7fd514",
   "metadata": {},
   "outputs": [
    {
     "name": "stdout",
     "output_type": "stream",
     "text": [
      "this is inner wrapper printing two values  20 30\n",
      "this is inner wrapper printing two values  20 30\n",
      "printing single value  worlds\n"
     ]
    }
   ],
   "source": [
    "#calling decorator using obj class \n",
    "obj=Myclass(20,30) # return object of myclass \n",
    "\n",
    "func=obj(func)  # calling obj instance by passing the func\n",
    "\n",
    "func(\"worlds\") # should return same as previous decorator class"
   ]
  },
  {
   "cell_type": "markdown",
   "id": "5fece184",
   "metadata": {},
   "source": []
  },
  {
   "cell_type": "markdown",
   "id": "b027053e",
   "metadata": {},
   "source": []
  },
  {
   "cell_type": "code",
   "execution_count": null,
   "id": "48811bcc",
   "metadata": {},
   "outputs": [],
   "source": []
  }
 ],
 "metadata": {
  "kernelspec": {
   "display_name": "Python 3 (ipykernel)",
   "language": "python",
   "name": "python3"
  },
  "language_info": {
   "codemirror_mode": {
    "name": "ipython",
    "version": 3
   },
   "file_extension": ".py",
   "mimetype": "text/x-python",
   "name": "python",
   "nbconvert_exporter": "python",
   "pygments_lexer": "ipython3",
   "version": "3.10.2"
  }
 },
 "nbformat": 4,
 "nbformat_minor": 5
}
